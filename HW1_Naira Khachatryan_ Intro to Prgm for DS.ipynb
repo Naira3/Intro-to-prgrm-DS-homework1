{
  "nbformat": 4,
  "nbformat_minor": 0,
  "metadata": {
    "colab": {
      "name": "HW1_Submission.ipynb",
      "version": "0.3.2",
      "provenance": [],
      "collapsed_sections": []
    },
    "kernelspec": {
      "display_name": "Python 3",
      "language": "python",
      "name": "python3"
    }
  },
  "cells": [
    {
      "metadata": {
        "id": "_FUYHIwgQVxH",
        "colab_type": "code",
        "colab": {}
      },
      "cell_type": "code",
      "source": [
        "# There is no need to run this chunk of code.\n",
        "import os\n",
        "wd=''\n",
        "os.chdir(wd)\n",
        "%run HW1_solutions.ipynb"
      ],
      "execution_count": 0,
      "outputs": []
    },
    {
      "metadata": {
        "id": "dCqbNP-FQVxW",
        "colab_type": "text"
      },
      "cell_type": "markdown",
      "source": [
        "## Homework 1 Submission\n",
        "Write your name and surname below:\n",
        "<br>\n",
        "Name: Naira\n",
        "<br>\n",
        "Surname: Khachatryan"
      ]
    },
    {
      "metadata": {
        "id": "aAtNdVK8QVxZ",
        "colab_type": "text"
      },
      "cell_type": "markdown",
      "source": [
        "***Problem 1:*** <br> Write a program that: <br>\n",
        "a. compares the lengths of two texts given below (i.e. the number of characters in each text) <br>\n",
        "b. compares the numbers of words in each text<br>\n",
        "c. calculates the frequency of each word (the number of times the word appears in the text) in each text and puts them in a dictionary <br>\n",
        "d. prints the number of unique words used in each text as a dictionary.\n",
        "<br>\n",
        "Example 1: {\"The legth of text a\": 487,\"The legth of text b\": 562}<br>\n",
        "Example 2: Word frequency- {\"Jovi\":2,\"in\": 4}\n"
      ]
    },
    {
      "metadata": {
        "id": "h0IDa6grQVxc",
        "colab_type": "code",
        "outputId": "4f162fe0-8405-45b0-c5f3-a7dd61b50cae",
        "colab": {
          "base_uri": "https://localhost:8080/",
          "height": 173
        }
      },
      "cell_type": "code",
      "source": [
        "a = 'Bon Jovi is an American rock band formed in 1983 in Sayreville, New Jersey. \\\n",
        "It consists of singer Jon Bon Jovi, keyboardist David Bryan, drummer Tico Torres, \\\n",
        "guitarist PhilX, and bassist Hugh McDonald. Previous bassist Alec John Such was \\\n",
        "dismissed in 1994, and longtime guitarist and co-songwriter Richie Sambora left in 2013.'\n",
        "\n",
        "b = \"Ronald Wilson Reagan (/ˈreɪɡən/; February 6, 1911 – June 5, 2004) \\\n",
        "was an American politician who served as the 40th president of the United \\\n",
        "States from 1981 to 1989. Prior to his presidency, he was a Hollywood actor \\\n",
        "and union leader before serving as the 33rd governor of California from 1967 to 1975.\"\n",
        "\n",
        "###_____________Start code here_________________###\n",
        "\n",
        "# 1st \n",
        "print (\"The length of text a is %d\" %  (len(a)), \", \\n and the length of text b is %d\" % (len(b)))\n",
        "\n",
        "# 2nd\n",
        "c=a.split()\n",
        "d=b.split()\n",
        "print (\"The number of words in a is %i\" % len(c), \"\\n The number of words in b is %i \" % len(d))\n",
        "\n",
        "# 3th\n",
        "def wordfrequency(text):\n",
        "  newA=text.split()\n",
        "  wordfreq = []\n",
        "  for i in newA:\n",
        "    wordfreq.append(newA.count(i))\n",
        "\n",
        "  dictionary=[]\n",
        "  for n , m in zip(newA, wordfreq):\n",
        "    dictionary.append(\"{0}:  {1}\". format(n, m))\n",
        "  sprint (dictionary)\n",
        "  return dictionary\n",
        "  \n",
        "  \n",
        "wordfrequency(a)\n",
        "wordfrequency(b)\n",
        "\n",
        "# 4th\n",
        "\n",
        "def uniqueword(text):\n",
        "  newtext=text.split()\n",
        "  wordfreqs = []\n",
        "  for i in newtext:\n",
        "    wordfreqs.append(newtext.count(i))\n",
        "    \n",
        "  x=0  \n",
        "  numberUnique=0\n",
        "  while x<len(wordfreqs):\n",
        "    if wordfreqs[x]==1:      \n",
        "      numberUnique+=1\n",
        "    x=x+1\n",
        "    \n",
        "  print(\"The number of unique words in this text is\",numberUnique)\n",
        "  \n",
        "uniqueword(a)\n",
        "uniqueword(b)\n",
        "  \n",
        "  \n",
        "\n",
        "  \n",
        "###_____________End code here_________________###"
      ],
      "execution_count": 18,
      "outputs": [
        {
          "output_type": "stream",
          "text": [
            "The length of text a is 326 , \n",
            " and the length of text b is 301\n",
            "The number of words in a is 52 \n",
            " The number of words in b is 53 \n",
            "['Bon:  2', 'Jovi:  1', 'is:  1', 'an:  1', 'American:  1', 'rock:  1', 'band:  1', 'formed:  1', 'in:  4', '1983:  1', 'in:  4', 'Sayreville,:  1', 'New:  1', 'Jersey.:  1', 'It:  1', 'consists:  1', 'of:  1', 'singer:  1', 'Jon:  1', 'Bon:  2', 'Jovi,:  1', 'keyboardist:  1', 'David:  1', 'Bryan,:  1', 'drummer:  1', 'Tico:  1', 'Torres,:  1', 'guitarist:  2', 'PhilX,:  1', 'and:  3', 'bassist:  2', 'Hugh:  1', 'McDonald.:  1', 'Previous:  1', 'bassist:  2', 'Alec:  1', 'John:  1', 'Such:  1', 'was:  1', 'dismissed:  1', 'in:  4', '1994,:  1', 'and:  3', 'longtime:  1', 'guitarist:  2', 'and:  3', 'co-songwriter:  1', 'Richie:  1', 'Sambora:  1', 'left:  1', 'in:  4', '2013.:  1']\n",
            "['Ronald:  1', 'Wilson:  1', 'Reagan:  1', '(/ˈreɪɡən/;:  1', 'February:  1', '6,:  1', '1911:  1', '–:  1', 'June:  1', '5,:  1', '2004):  1', 'was:  2', 'an:  1', 'American:  1', 'politician:  1', 'who:  1', 'served:  1', 'as:  2', 'the:  3', '40th:  1', 'president:  1', 'of:  2', 'the:  3', 'United:  1', 'States:  1', 'from:  2', '1981:  1', 'to:  3', '1989.:  1', 'Prior:  1', 'to:  3', 'his:  1', 'presidency,:  1', 'he:  1', 'was:  2', 'a:  1', 'Hollywood:  1', 'actor:  1', 'and:  1', 'union:  1', 'leader:  1', 'before:  1', 'serving:  1', 'as:  2', 'the:  3', '33rd:  1', 'governor:  1', 'of:  2', 'California:  1', 'from:  2', '1967:  1', 'to:  3', '1975.:  1']\n",
            "The number of unique words in this text is 39\n",
            "The number of unique words in this text is 39\n"
          ],
          "name": "stdout"
        }
      ]
    },
    {
      "metadata": {
        "id": "0Ub_n3N_QVxr",
        "colab_type": "code",
        "colab": {}
      },
      "cell_type": "code",
      "source": [
        "# There is no need to run this chunk of code.\n",
        "ex1(a,b)"
      ],
      "execution_count": 0,
      "outputs": []
    },
    {
      "metadata": {
        "id": "KXtiC9CGQVxz",
        "colab_type": "text"
      },
      "cell_type": "markdown",
      "source": [
        "***Problem 13:*** Write a program to calculate the sum of the digits of a number  until it is a single-digit number (Example: **199** -> 1+9+9=**19** -> 1+9=**10** -> 1+0=**1**). Let the program print the result of each step (the bolded numbers in the example). Run the program for 289, 1011, 3333."
      ]
    },
    {
      "metadata": {
        "id": "SJQz9qi-QVx2",
        "colab_type": "code",
        "outputId": "33e2c652-9802-4d12-f492-54c3a6442885",
        "colab": {
          "base_uri": "https://localhost:8080/",
          "height": 119
        }
      },
      "cell_type": "code",
      "source": [
        "###_____________Start code here_________________###\n",
        "def count(a):\n",
        "  d= str(a)\n",
        "  i=0\n",
        "  x=0\n",
        "  while i<len(d):\n",
        "    integ=int(d[i])\n",
        "    x=x+integ\n",
        "    i=i+1\n",
        "   \n",
        "  print(x)\n",
        "    \n",
        "  if x>9:\n",
        "    return (count(x))\n",
        "  else: None\n",
        "  \n",
        "count(289)\n",
        "count(1011)\n",
        "count(3333)\n",
        "\n",
        "###_____________End code here_________________###"
      ],
      "execution_count": 0,
      "outputs": [
        {
          "output_type": "stream",
          "text": [
            "19\n",
            "10\n",
            "1\n",
            "3\n",
            "12\n",
            "3\n"
          ],
          "name": "stdout"
        }
      ]
    },
    {
      "metadata": {
        "id": "rnpYDvLfQVx8",
        "colab_type": "code",
        "colab": {}
      },
      "cell_type": "code",
      "source": [
        "# There is no need to run this chunk of code.\n",
        "ex13(289)\n",
        "ex13(1011)\n",
        "ex13(3333)"
      ],
      "execution_count": 0,
      "outputs": []
    },
    {
      "metadata": {
        "id": "PwDyHB4jQVyD",
        "colab_type": "text"
      },
      "cell_type": "markdown",
      "source": [
        "***Problem 14:*** Write a program to print a chess board where **\"X\"s** are black squares and **\"O\"s** are white ones. Hint: you can use \"end\" parameter of print() function to print on the same line and separate the outputs of different prints by space or any character you want. More on this topic here: https://www.geeksforgeeks.org/gfact-50-python-end-parameter-in-print/.\n",
        "<br>The output should be like this:\n",
        "<img src=\"chess.jpg\" style=\"width: 200px;\">"
      ]
    },
    {
      "metadata": {
        "id": "2Y9UyJGzQVyH",
        "colab_type": "code",
        "outputId": "3ad6f39e-db0d-4df2-b795-5ff8058d96b9",
        "colab": {
          "base_uri": "https://localhost:8080/",
          "height": 153
        }
      },
      "cell_type": "code",
      "source": [
        "###_____________Start code here_________________###\n",
        "y=0\n",
        "while y<4:\n",
        "  i=0\n",
        "  a=\"\"\n",
        "  b=\"\"\n",
        "  while i<4:\n",
        "    a=a+\" O X\"\n",
        "    b=b+\" X O\"\n",
        "    i=i+1\n",
        "  print(a)\n",
        "  print(b)\n",
        "  \n",
        "  y=y+1\n",
        "    \n",
        " \n",
        "###_____________End code here_________________###"
      ],
      "execution_count": 0,
      "outputs": [
        {
          "output_type": "stream",
          "text": [
            " O X O X O X O X\n",
            " X O X O X O X O\n",
            " O X O X O X O X\n",
            " X O X O X O X O\n",
            " O X O X O X O X\n",
            " X O X O X O X O\n",
            " O X O X O X O X\n",
            " X O X O X O X O\n"
          ],
          "name": "stdout"
        }
      ]
    },
    {
      "metadata": {
        "id": "XCjVz_jgQVyR",
        "colab_type": "code",
        "colab": {}
      },
      "cell_type": "code",
      "source": [
        "# There is no need to run this chunk of code.\n",
        "ex14()"
      ],
      "execution_count": 0,
      "outputs": []
    },
    {
      "metadata": {
        "id": "kqA_Wt6KQVym",
        "colab_type": "text"
      },
      "cell_type": "markdown",
      "source": [
        "***Problem 15:*** Write a program to reverse the digits of a given integer without using any built-in function or slicing. (**Example**: 12345 to 54321). Run the program for 4815162342."
      ]
    },
    {
      "metadata": {
        "id": "K8EPsEQrQVyp",
        "colab_type": "code",
        "outputId": "7c16bb11-96d4-4a1a-914b-8f5678a82dea",
        "colab": {
          "base_uri": "https://localhost:8080/",
          "height": 34
        }
      },
      "cell_type": "code",
      "source": [
        "###_____________Start code here_________________###\n",
        "def Rev(digits):\n",
        "  a=str(digits)\n",
        "  b=a[::-1]\n",
        "  print(b)\n",
        "  \n",
        "  \n",
        "Rev(digits=4815162342)\n",
        "  \n",
        "   \n",
        "\n",
        "###_____________End code here_________________###"
      ],
      "execution_count": 0,
      "outputs": [
        {
          "output_type": "stream",
          "text": [
            "2432615184\n"
          ],
          "name": "stdout"
        }
      ]
    },
    {
      "metadata": {
        "id": "RX-mFAFVQVyw",
        "colab_type": "code",
        "colab": {}
      },
      "cell_type": "code",
      "source": [
        "# There is no need to run this chunk of code.\n",
        "ex15(4815162342)"
      ],
      "execution_count": 0,
      "outputs": []
    },
    {
      "metadata": {
        "id": "H_r7QJX9QVy3",
        "colab_type": "text"
      },
      "cell_type": "markdown",
      "source": [
        "***Problem 17:*** Write a function that will find all numbers between A and B (inclusive) such that each digit of the number is even. For example foo(20,26) returns [22,24,26]. Call the function for A=40 and B=140. 0 is even number."
      ]
    },
    {
      "metadata": {
        "id": "4UTU68SsQVy6",
        "colab_type": "code",
        "outputId": "449dd624-0099-4788-d8fe-b6ab964d2e18",
        "colab": {
          "base_uri": "https://localhost:8080/",
          "height": 867
        }
      },
      "cell_type": "code",
      "source": [
        "###_____________Start code here_________________###\n",
        "\n",
        "def findevens(a, b):\n",
        "  i=a+1\n",
        "  while i<=b:\n",
        "    if i%2==0:\n",
        "      print(i)\n",
        "      \n",
        "    else: print (i+1)\n",
        "   \n",
        "    i=i+2\n",
        "        \n",
        "        \n",
        "findevens(40,140)\n",
        "    \n",
        "###_____________End code here_________________###"
      ],
      "execution_count": 0,
      "outputs": [
        {
          "output_type": "stream",
          "text": [
            "42\n",
            "44\n",
            "46\n",
            "48\n",
            "50\n",
            "52\n",
            "54\n",
            "56\n",
            "58\n",
            "60\n",
            "62\n",
            "64\n",
            "66\n",
            "68\n",
            "70\n",
            "72\n",
            "74\n",
            "76\n",
            "78\n",
            "80\n",
            "82\n",
            "84\n",
            "86\n",
            "88\n",
            "90\n",
            "92\n",
            "94\n",
            "96\n",
            "98\n",
            "100\n",
            "102\n",
            "104\n",
            "106\n",
            "108\n",
            "110\n",
            "112\n",
            "114\n",
            "116\n",
            "118\n",
            "120\n",
            "122\n",
            "124\n",
            "126\n",
            "128\n",
            "130\n",
            "132\n",
            "134\n",
            "136\n",
            "138\n",
            "140\n"
          ],
          "name": "stdout"
        }
      ]
    },
    {
      "metadata": {
        "id": "nEFTuPXVQVzB",
        "colab_type": "code",
        "colab": {}
      },
      "cell_type": "code",
      "source": [
        "# There is no need to run this chunk of code.\n",
        "ex17(40,140)"
      ],
      "execution_count": 0,
      "outputs": []
    },
    {
      "metadata": {
        "id": "SUGaMA9sQVzI",
        "colab_type": "text"
      },
      "cell_type": "markdown",
      "source": [
        "***Problem 18:*** On basic cell phones numeric keypad is used to write a message. Write a function to output the numerical sequence of the keys to be pressed for any message. For instance, numerical sequence for typing \"P\" will be 7 and for \"I\" 444. Another example, the sequence for \"hello\" will be 4433555555666. Make the input text uppercase before converting to numerical sequence. Call the function for the following input **\"HI DEAR! I WILL BE LATE TODAY.\"**\n",
        "\n",
        "| Key | Symbols |\n",
        "|----|----|\n",
        "|1|. , ? ! :|\n",
        "|2|A B C|\n",
        "|3|D E F|\n",
        "|4|G H I|\n",
        "|5|J K L|\n",
        "|6|M N O|\n",
        "|7|P Q R S|\n",
        "|8|T U V|\n",
        "|9|W X Y Z|\n",
        "|0| space |\n"
      ]
    },
    {
      "metadata": {
        "id": "UG-srSHSQVzK",
        "colab_type": "code",
        "outputId": "3539a5ca-c2ab-4b60-b737-2720e2c47e3d",
        "colab": {
          "base_uri": "https://localhost:8080/",
          "height": 34
        }
      },
      "cell_type": "code",
      "source": [
        "###_____________Start code here_________________###\n",
        "\n",
        "Phone={\".\": \"1\", \",\":\"11\", \"?\":\"111\",\"!\":\"1111\",\":\":\"11111\",\"A\":\"2\",\"B\":\"22\",\"C\":\"222\",\n",
        "           \"D\":\"3\",\"E\":\"33\",\"F\":\"333\",\"G\":\"4\",\"H\":\"44\",\"I\":\"444\",\"J\":\"5\",\"K\":\"55\",\"L\":\"555\",\n",
        "           \"M\":\"6\",\"N\":\"66\",\"O\":\"666\",\"P\":\"7\",\"Q\":\"77\",\"R\":\"777\",\"S\":\"7777\",\"T\":\"8\",\"U\":\"88\",\n",
        "            \"V\":\"888\",\"W\":\"9\",\"X\":\"99\",\"Y\":\"999\",\"Z\":\"9999\",\" \":\"0\"}\n",
        "\n",
        "def NumerCode(expression):\n",
        "  a=expression.upper()\n",
        "  x=\"\"\n",
        "  i=0\n",
        "  while i<len(expression):\n",
        "    x=x+(Phone[a[i]])\n",
        "    i=i+1\n",
        "  print(x)\n",
        "    \n",
        "NumerCode(\"HI DEAR! I WILL BE LATE TODAY.\")\n",
        "\n",
        "###_____________End code here_________________###"
      ],
      "execution_count": 0,
      "outputs": [
        {
          "output_type": "stream",
          "text": [
            "44444033327771111044409444555555022330555283308666329991\n"
          ],
          "name": "stdout"
        }
      ]
    },
    {
      "metadata": {
        "id": "Twb9_dQhQVzS",
        "colab_type": "code",
        "colab": {}
      },
      "cell_type": "code",
      "source": [
        "# There is no need to run this chunk of code.\n",
        "print(ex18(\"HI DEAR! I WILL BE LATE TODAY.\"))"
      ],
      "execution_count": 0,
      "outputs": []
    },
    {
      "metadata": {
        "id": "_-s2ZYDaQVzZ",
        "colab_type": "text"
      },
      "cell_type": "markdown",
      "source": [
        "***Problem 20:*** Write a program that accepts a sentence and prints the number of letters and digits in it. Run the program for \"1, 2, 3, 4... Let's run the code!\" "
      ]
    },
    {
      "metadata": {
        "id": "G9MqPH3oQVzb",
        "colab_type": "code",
        "outputId": "03415f31-d852-4b9d-8880-88a9a23bd0fa",
        "colab": {
          "base_uri": "https://localhost:8080/",
          "height": 51
        }
      },
      "cell_type": "code",
      "source": [
        "###_____________Start code here_________________###\n",
        "def amount(sentence):\n",
        "  num=0\n",
        "  letter=0\n",
        "  for c in sentence:\n",
        "    if c.isdigit():\n",
        "        num=num+1\n",
        "    elif c.isalpha():\n",
        "        letter=letter+1\n",
        "    else: continue\n",
        "        \n",
        "  print (\"The number of letter in this sentence is %d\" % letter)\n",
        "  print (\"The number of integers in this sentence is %d\" % num)\n",
        "  \n",
        "  \n",
        "amount(\"1, 2, 3, 4... Let's run the code!\")    \n",
        "\n",
        "###_____________End code here_________________###"
      ],
      "execution_count": 0,
      "outputs": [
        {
          "output_type": "stream",
          "text": [
            "The number of letter in this sentence is 14\n",
            "The number of integers in this sentence is 4\n"
          ],
          "name": "stdout"
        }
      ]
    },
    {
      "metadata": {
        "id": "4t6EMiurQVzl",
        "colab_type": "code",
        "colab": {}
      },
      "cell_type": "code",
      "source": [
        "# There is no need to run this chunk of code.\n",
        "ex20(\"1, 2, 3, 4... Let's run the code!\")"
      ],
      "execution_count": 0,
      "outputs": []
    },
    {
      "metadata": {
        "id": "ThaWnuDuQVzx",
        "colab_type": "text"
      },
      "cell_type": "markdown",
      "source": [
        "***Problem 22:*** Two people throw two six-sided fair dices each. The one with greater sum wins, and if the sum is equal, they draw. Write a program that simulates the game and plays 100 time. Print the number of wins of Player 1, Player 2 and draws."
      ]
    },
    {
      "metadata": {
        "id": "SQLbQ2cdQVzz",
        "colab_type": "code",
        "outputId": "77a0f71b-17a1-4d5c-bd56-6bb82a37cb13",
        "colab": {
          "base_uri": "https://localhost:8080/",
          "height": 85
        }
      },
      "cell_type": "code",
      "source": [
        "###_____________Start code here_________________###\n",
        "import random\n",
        "result=[1, 2, 3, 4, 5, 6]\n",
        "sum1=0\n",
        "sum2=0\n",
        "win1=0\n",
        "win2=0\n",
        "draw=0\n",
        "x=0\n",
        "while x<100:\n",
        "  i=0\n",
        "  while i<2:\n",
        "    random.shuffle(result)\n",
        "    sum1=sum1+result[0]\n",
        "    i+=1\n",
        "        \n",
        "  d=0\n",
        "  while d<2:\n",
        "    random.shuffle(result)\n",
        "    sum2=sum2+result[0]\n",
        "    d+=1\n",
        "        \n",
        "\n",
        "\n",
        "  if sum1==sum2: \n",
        "    draw+=1\n",
        "    x=x-1\n",
        "  elif sum1>sum2:\n",
        "    win1+=1\n",
        "  elif sum1<sum2:\n",
        "    win2+=1\n",
        "    \n",
        "  x=x+1\n",
        "  \n",
        "print(\"The number of wins of Player1 is\", win1)\n",
        "print(\"The number of wins of Player2 is\", win2)\n",
        "print (\"The number of wins of draws is\", draw)\n",
        "  \n",
        "\n",
        "###_____________End code here_________________###"
      ],
      "execution_count": 0,
      "outputs": [
        {
          "output_type": "stream",
          "text": [
            "None\n",
            "The number of wins of Player1 is 62\n",
            "The number of wins of Player2 is 38\n",
            "The number of wins of draws is 12\n"
          ],
          "name": "stdout"
        }
      ]
    },
    {
      "metadata": {
        "id": "SeOOutcBQVz6",
        "colab_type": "code",
        "colab": {}
      },
      "cell_type": "code",
      "source": [
        "# There is no need to run this chunk of code.\n",
        "ex22()"
      ],
      "execution_count": 0,
      "outputs": []
    },
    {
      "metadata": {
        "id": "JPEguQqQQV0A",
        "colab_type": "text"
      },
      "cell_type": "markdown",
      "source": [
        "***Problem 23:*** Write a program that randomly generates a nine-character password. First 3 characters must be from the set \"let\", second 3 characters from the set \"num\", last three ones from the set \"sym\". Set seed() to 42 and generate a password."
      ]
    },
    {
      "metadata": {
        "id": "_YkpfLTeQV0D",
        "colab_type": "code",
        "colab": {}
      },
      "cell_type": "code",
      "source": [
        "let = {'A','B','C','a','b','c'}\n",
        "num = {1,2,3,4,5,6}\n",
        "sym = {'!','@','#','$','%','^'}\n"
      ],
      "execution_count": 0,
      "outputs": []
    },
    {
      "metadata": {
        "id": "MpYQxu_7QV0N",
        "colab_type": "code",
        "outputId": "2022c044-d81a-4226-8e42-92e388a70f66",
        "colab": {
          "base_uri": "https://localhost:8080/",
          "height": 34
        }
      },
      "cell_type": "code",
      "source": [
        "###_____________Start code here_________________###\n",
        "import random\n",
        "let = ['A','B','C','a','b','c']\n",
        "num = [1,2,3,4,5,6]\n",
        "sym = ['!','@','#','$','%','^']\n",
        "password=[]\n",
        "i=0\n",
        "if i>=0:\n",
        "  while i<3:\n",
        "    password.append(random.choice(let))\n",
        "    i=i+1\n",
        "\n",
        "if i>=3:\n",
        "  while i<6:\n",
        "    password.append(random.choice(num))\n",
        "    i+=1\n",
        "  \n",
        "if i>=6:\n",
        "  while i<9:\n",
        "    password.append(random.choice(sym))\n",
        "    i+=1\n",
        "  \n",
        "k=0\n",
        "finalpsw=\"\"\n",
        "while k<len(password):\n",
        "  \n",
        "  finalpsw=finalpsw+str(password[k])\n",
        "  k+=1\n",
        "  \n",
        "print(finalpsw)\n",
        "\n",
        "###_____________End code here_________________###"
      ],
      "execution_count": 0,
      "outputs": [
        {
          "output_type": "stream",
          "text": [
            "acC446@!!\n"
          ],
          "name": "stdout"
        }
      ]
    },
    {
      "metadata": {
        "id": "dVcuN7koQV0V",
        "colab_type": "code",
        "colab": {}
      },
      "cell_type": "code",
      "source": [
        "# There is no need to run this chunk of code.\n",
        "ex23()"
      ],
      "execution_count": 0,
      "outputs": []
    },
    {
      "metadata": {
        "id": "fQUFDUyLQV0c",
        "colab_type": "text"
      },
      "cell_type": "markdown",
      "source": [
        "\n",
        "***Problem 24:*** Write a program to find all the numbers divisible by 6 but not a multiple of 5 between 100 and 500 (inclusive). Print the numbers as a comma-separated string."
      ]
    },
    {
      "metadata": {
        "id": "RmrgjUl4QV0e",
        "colab_type": "code",
        "outputId": "b7d8a123-39b3-419e-cba3-ea31338a1428",
        "colab": {
          "base_uri": "https://localhost:8080/",
          "height": 54
        }
      },
      "cell_type": "code",
      "source": [
        "###_____________Start code here_________________###\n",
        "import math\n",
        "a=100\n",
        "list=[]\n",
        "while a<501:\n",
        "  if a%6==0 and a%5!=0:\n",
        "    list.append(a)\n",
        "  a+=1\n",
        "\n",
        "print(list)\n",
        "  \n",
        "  \n",
        "###_____________End code here_________________###"
      ],
      "execution_count": 0,
      "outputs": [
        {
          "output_type": "stream",
          "text": [
            "[102, 108, 114, 126, 132, 138, 144, 156, 162, 168, 174, 186, 192, 198, 204, 216, 222, 228, 234, 246, 252, 258, 264, 276, 282, 288, 294, 306, 312, 318, 324, 336, 342, 348, 354, 366, 372, 378, 384, 396, 402, 408, 414, 426, 432, 438, 444, 456, 462, 468, 474, 486, 492, 498]\n"
          ],
          "name": "stdout"
        }
      ]
    },
    {
      "metadata": {
        "id": "utCVgzhWQV0k",
        "colab_type": "code",
        "colab": {}
      },
      "cell_type": "code",
      "source": [
        "# There is no need to run this chunk of code.\n",
        "ex24()"
      ],
      "execution_count": 0,
      "outputs": []
    },
    {
      "metadata": {
        "id": "ta7zLQbkQV0t",
        "colab_type": "text"
      },
      "cell_type": "markdown",
      "source": [
        "***Example 25:*** Write a program that converts \"firstname lastname\" to \"lastname, firstname\", using list comprehensions."
      ]
    },
    {
      "metadata": {
        "id": "rQSOb5zZQV0v",
        "colab_type": "code",
        "colab": {}
      },
      "cell_type": "code",
      "source": [
        "ls = ['Հրաչյա Վարդանյան', 'Անուշ Կարապետյան', 'Գոռ Անտոնյան', 'Տաթեւ Հարությունյան', 'Mary Sargsyan']"
      ],
      "execution_count": 0,
      "outputs": []
    },
    {
      "metadata": {
        "id": "KrUtq_NSQV05",
        "colab_type": "code",
        "outputId": "674e0137-6090-45a2-f8f7-fe6495c54b32",
        "colab": {
          "base_uri": "https://localhost:8080/",
          "height": 34
        }
      },
      "cell_type": "code",
      "source": [
        "###_____________Start code here_________________###\n",
        "\n",
        "def change(list):\n",
        "  i=0\n",
        "  newlist=[]\n",
        "  while i<len(list):\n",
        "    sep=list[i].split()\n",
        "    newlist.append(sep[1]+\" \"+sep[0])\n",
        "    i=i+1\n",
        "  print(newlist)\n",
        " \n",
        "  \n",
        "change(['Հրաչյա Վարդանյան', 'Անուշ Կարապետյան', 'Գոռ Անտոնյան', 'Տաթեւ Հարությունյան', 'Mary Sargsyan'])\n",
        "\n",
        "\n",
        "###_____________End code here_________________###"
      ],
      "execution_count": 0,
      "outputs": [
        {
          "output_type": "stream",
          "text": [
            "['Վարդանյան Հրաչյա', 'Կարապետյան Անուշ', 'Անտոնյան Գոռ', 'Հարությունյան Տաթեւ', 'Sargsyan Mary']\n"
          ],
          "name": "stdout"
        }
      ]
    },
    {
      "metadata": {
        "id": "2tbTwBu2QV1B",
        "colab_type": "code",
        "colab": {}
      },
      "cell_type": "code",
      "source": [
        "# There is no need to run this chunk of code.\n",
        "ex25(ls)"
      ],
      "execution_count": 0,
      "outputs": []
    },
    {
      "metadata": {
        "id": "atwmBkG4QV1I",
        "colab_type": "text"
      },
      "cell_type": "markdown",
      "source": [
        "***Problem 27:*** Write a function to devide an input list of ages between 0 and 70 into 4 groups.<br><br>\n",
        "Baby Boomers  - (50 to 70 years old]<br>\n",
        "Generation X - (34 to 50 years old]<br>\n",
        "Generation Y - (18 to 34 years old]<br>\n",
        "Generation Z - [0 to 18 years old]<br>\n",
        "\n",
        "Return a dictionary with the following structure:\n",
        "{'Group 1':[ages],'Group 2':[ages],'Group 3':[ages],'Group 4':[ages]}"
      ]
    },
    {
      "metadata": {
        "id": "u1EhI3M0QV1L",
        "colab_type": "code",
        "outputId": "352d9318-5ff7-4024-977c-7ebaddf138d3",
        "colab": {
          "base_uri": "https://localhost:8080/",
          "height": 34
        }
      },
      "cell_type": "code",
      "source": [
        "ls = [18,29,3,14,69,10,1,58,52,23,24,5,65]\n",
        "###_____________Start code here_________________###\n",
        "\n",
        "BabyBoomers=[]\n",
        "GenerationX=[]\n",
        "GenerationY=[]\n",
        "GenerationZ=[]\n",
        "Age_dict={'Group 1': BabyBoomers,'Group 2': GenerationX,'Group 3':GenerationY,'Group 4':GenerationZ}\n",
        "def FindGroup(list):\n",
        "  i=0\n",
        "  while i<len(list):\n",
        "    if list[i]>0 and list[i]<19:\n",
        "      GenerationZ.append(list[i])\n",
        "    \n",
        "    elif list[i]>18 and list[i]<35:\n",
        "      GenerationY.append(list[i])\n",
        "    \n",
        "    elif list[i]>34 and list[i]<51:\n",
        "      GenerationX.append(list[i])\n",
        "    \n",
        "    elif list[i]>50 and list[i]<71:\n",
        "      BabyBoomers.append(list[i])\n",
        "    i=i+1\n",
        "  return Age_dict\n",
        "  print(Age_dict)\n",
        "\n",
        "FindGroup([18,29,3,14,69,10,1,58,52,23,24,5,65])\n",
        "###_____________End code here_________________###"
      ],
      "execution_count": 0,
      "outputs": [
        {
          "output_type": "stream",
          "text": [
            "{'Group 1': [69, 58, 52, 65], 'Group 2': [], 'Group 3': [29, 23, 24], 'Group 4': [18, 3, 14, 10, 1, 5]}\n"
          ],
          "name": "stdout"
        }
      ]
    },
    {
      "metadata": {
        "id": "JoNoAahkQV1Z",
        "colab_type": "code",
        "colab": {}
      },
      "cell_type": "code",
      "source": [
        "# There is no need to run this chunk of code.\n",
        "ex27(ls)"
      ],
      "execution_count": 0,
      "outputs": []
    }
  ]
}